{
 "cells": [
  {
   "cell_type": "markdown",
   "id": "644b7936",
   "metadata": {},
   "source": [
    "# Question 1"
   ]
  },
  {
   "cell_type": "code",
   "execution_count": 346,
   "id": "8fe9ae97",
   "metadata": {},
   "outputs": [],
   "source": [
    "import pandas as pd\n",
    "import numpy as np"
   ]
  },
  {
   "cell_type": "markdown",
   "id": "c2e81b8d",
   "metadata": {},
   "source": [
    "### Loading the data"
   ]
  },
  {
   "cell_type": "code",
   "execution_count": 347,
   "id": "8b6e13da",
   "metadata": {},
   "outputs": [
    {
     "data": {
      "text/html": [
       "<div>\n",
       "<style scoped>\n",
       "    .dataframe tbody tr th:only-of-type {\n",
       "        vertical-align: middle;\n",
       "    }\n",
       "\n",
       "    .dataframe tbody tr th {\n",
       "        vertical-align: top;\n",
       "    }\n",
       "\n",
       "    .dataframe thead th {\n",
       "        text-align: right;\n",
       "    }\n",
       "</style>\n",
       "<table border=\"1\" class=\"dataframe\">\n",
       "  <thead>\n",
       "    <tr style=\"text-align: right;\">\n",
       "      <th></th>\n",
       "      <th>Label</th>\n",
       "      <th>Message</th>\n",
       "    </tr>\n",
       "  </thead>\n",
       "  <tbody>\n",
       "    <tr>\n",
       "      <th>0</th>\n",
       "      <td>1</td>\n",
       "      <td>Go until jurong point, crazy.. Available only ...</td>\n",
       "    </tr>\n",
       "    <tr>\n",
       "      <th>1</th>\n",
       "      <td>1</td>\n",
       "      <td>Ok lar... Joking wif u oni...</td>\n",
       "    </tr>\n",
       "    <tr>\n",
       "      <th>2</th>\n",
       "      <td>0</td>\n",
       "      <td>Free entry in 2 a wkly comp to win FA Cup fina...</td>\n",
       "    </tr>\n",
       "    <tr>\n",
       "      <th>3</th>\n",
       "      <td>1</td>\n",
       "      <td>U dun say so early hor... U c already then say...</td>\n",
       "    </tr>\n",
       "    <tr>\n",
       "      <th>4</th>\n",
       "      <td>1</td>\n",
       "      <td>Nah I don't think he goes to usf, he lives aro...</td>\n",
       "    </tr>\n",
       "    <tr>\n",
       "      <th>...</th>\n",
       "      <td>...</td>\n",
       "      <td>...</td>\n",
       "    </tr>\n",
       "    <tr>\n",
       "      <th>5567</th>\n",
       "      <td>0</td>\n",
       "      <td>This is the 2nd time we have tried 2 contact u...</td>\n",
       "    </tr>\n",
       "    <tr>\n",
       "      <th>5568</th>\n",
       "      <td>1</td>\n",
       "      <td>Will Ì_ b going to esplanade fr home?</td>\n",
       "    </tr>\n",
       "    <tr>\n",
       "      <th>5569</th>\n",
       "      <td>1</td>\n",
       "      <td>Pity, * was in mood for that. So...any other s...</td>\n",
       "    </tr>\n",
       "    <tr>\n",
       "      <th>5570</th>\n",
       "      <td>1</td>\n",
       "      <td>The guy did some bitching but I acted like i'd...</td>\n",
       "    </tr>\n",
       "    <tr>\n",
       "      <th>5571</th>\n",
       "      <td>1</td>\n",
       "      <td>Rofl. Its true to its name</td>\n",
       "    </tr>\n",
       "  </tbody>\n",
       "</table>\n",
       "<p>5572 rows × 2 columns</p>\n",
       "</div>"
      ],
      "text/plain": [
       "      Label                                            Message\n",
       "0         1  Go until jurong point, crazy.. Available only ...\n",
       "1         1                      Ok lar... Joking wif u oni...\n",
       "2         0  Free entry in 2 a wkly comp to win FA Cup fina...\n",
       "3         1  U dun say so early hor... U c already then say...\n",
       "4         1  Nah I don't think he goes to usf, he lives aro...\n",
       "...     ...                                                ...\n",
       "5567      0  This is the 2nd time we have tried 2 contact u...\n",
       "5568      1              Will Ì_ b going to esplanade fr home?\n",
       "5569      1  Pity, * was in mood for that. So...any other s...\n",
       "5570      1  The guy did some bitching but I acted like i'd...\n",
       "5571      1                         Rofl. Its true to its name\n",
       "\n",
       "[5572 rows x 2 columns]"
      ]
     },
     "execution_count": 347,
     "metadata": {},
     "output_type": "execute_result"
    }
   ],
   "source": [
    "df = pd.read_csv('spam.csv', encoding='latin1')\n",
    "df = df.drop(columns=['Unnamed: 2', 'Unnamed: 3', 'Unnamed: 4'])\n",
    "df.rename(columns={'v1' : 'Label', 'v2' : 'Message'}, inplace=True)\n",
    "df['Label'] = df['Label'].apply(lambda x : 1 if (x == 'ham')  else 0)  # if 1 it is ham and if 0 it is spam\n",
    "df"
   ]
  },
  {
   "cell_type": "markdown",
   "id": "6715d845",
   "metadata": {},
   "source": [
    "### preprocessing the text"
   ]
  },
  {
   "cell_type": "code",
   "execution_count": 348,
   "id": "820d9ed5",
   "metadata": {},
   "outputs": [],
   "source": [
    "import re\n",
    "import nltk\n",
    "from nltk.stem.porter import PorterStemmer\n",
    "from nltk.corpus import stopwords\n",
    "\n",
    "stemmer = PorterStemmer()\n",
    "stop_words = set(stopwords.words('english'))\n",
    "\n",
    "def clean_text(text) :\n",
    "    text = text.lower()\n",
    "    text = re.sub(r'[^\\w\\s]', '', text) # Remove punctuation\n",
    "    text = [stemmer.stem(word) for word in text.split() if word not in stop_words]  # Remove stop words and stem\n",
    "\n",
    "    return text\n",
    "\n",
    "messages = [clean_text(message) for message in df['Message'].values]"
   ]
  },
  {
   "cell_type": "markdown",
   "id": "e0f918e9",
   "metadata": {},
   "source": [
    "### word2vec model"
   ]
  },
  {
   "cell_type": "code",
   "execution_count": 349,
   "id": "be5076b5",
   "metadata": {},
   "outputs": [],
   "source": [
    "from gensim.models import Word2Vec\n",
    "w2v_model = Word2Vec(sentences= messages, vector_size=100, window=5, min_count=2, workers=4)"
   ]
  },
  {
   "cell_type": "markdown",
   "id": "d8df470d",
   "metadata": {},
   "source": [
    "### sentence embeddings"
   ]
  },
  {
   "cell_type": "code",
   "execution_count": 356,
   "id": "67990dc0",
   "metadata": {},
   "outputs": [
    {
     "name": "stdout",
     "output_type": "stream",
     "text": [
      "(5572, 100)\n",
      "(5572,)\n"
     ]
    }
   ],
   "source": [
    "def avg_sentence_embedding(tokens) :\n",
    "    vectors = [w2v_model.wv[word] for word in tokens if word in w2v_model.wv]\n",
    "    return np.mean(vectors, axis = 0) if vectors else np.zeros(w2v_model.vector_size)\n",
    "\n",
    "sentence_vectors = np.array([avg_sentence_embedding(message_tokens) for message_tokens in messages])\n",
    "print(sentence_vectors.shape)\n",
    "labels = df['Label'].to_numpy()\n",
    "print(labels.shape)"
   ]
  },
  {
   "cell_type": "markdown",
   "id": "2cdc2f42",
   "metadata": {},
   "source": [
    "### splitting the data "
   ]
  },
  {
   "cell_type": "code",
   "execution_count": 352,
   "id": "3289306e",
   "metadata": {},
   "outputs": [
    {
     "name": "stdout",
     "output_type": "stream",
     "text": [
      "(4457, 100) (1115, 100)\n"
     ]
    }
   ],
   "source": [
    "from sklearn.model_selection import train_test_split\n",
    "x_train , x_test , y_train, y_test = train_test_split(sentence_vectors, labels, test_size=0.2)\n",
    "print(x_train.shape, x_test.shape)"
   ]
  },
  {
   "cell_type": "markdown",
   "id": "563cf2f2",
   "metadata": {},
   "source": [
    "### logistic regression"
   ]
  },
  {
   "cell_type": "code",
   "execution_count": 353,
   "id": "2cad8180",
   "metadata": {},
   "outputs": [
    {
     "name": "stdout",
     "output_type": "stream",
     "text": [
      "Acurracy : 0.8690582959641255\n"
     ]
    }
   ],
   "source": [
    "from sklearn.linear_model import LogisticRegression\n",
    "from sklearn.metrics import accuracy_score\n",
    "\n",
    "classifier = LogisticRegression()\n",
    "classifier.fit(x_train, y_train)\n",
    "y_pred = classifier.predict(x_test)\n",
    "\n",
    "accuracy = accuracy_score(y_pred, y_test)\n",
    "print(\"Acurracy :\", accuracy)"
   ]
  },
  {
   "cell_type": "markdown",
   "id": "27c03350",
   "metadata": {},
   "source": [
    "### function definition"
   ]
  },
  {
   "cell_type": "code",
   "execution_count": 355,
   "id": "225c85f6",
   "metadata": {},
   "outputs": [
    {
     "name": "stdout",
     "output_type": "stream",
     "text": [
      "message : Go until jurong point, crazy.. Available only in bugis n great world la e buffet... Cine there got amore wat...\n",
      "actual label : ham\n",
      "predicted label : ham\n"
     ]
    }
   ],
   "source": [
    "from gensim.utils import simple_preprocess\n",
    "dict1 = { 1 : 'ham', 0 : 'spam'}\n",
    "\n",
    "def predict_message_class(model, w2v_model, message) :\n",
    "    message_tokens = simple_preprocess(message)\n",
    "    word_vectors = [w2v_model.wv[token] for token in message_tokens if token in w2v_model.wv]\n",
    "    sentence_vector = np.mean(word_vectors, axis=0) if word_vectors else np.zeros(w2v_model.vector_size)\n",
    "    val =  model.predict(sentence_vector.reshape(1,-1))\n",
    "    return dict1[val[0]]\n",
    "\n",
    "\n",
    "text = df['Message'][0]\n",
    "label = df['Label'][0]\n",
    "cls = predict_message_class(classifier, w2v_model, text)\n",
    "print(\"message :\", text)\n",
    "print(\"actual label :\", 'ham' if label == 1 else 'spam')\n",
    "print(\"predicted label :\", cls)"
   ]
  },
  {
   "cell_type": "markdown",
   "id": "2132945e",
   "metadata": {},
   "source": [
    "# Question 2"
   ]
  },
  {
   "cell_type": "markdown",
   "id": "cc03780b",
   "metadata": {},
   "source": [
    "### loading data"
   ]
  },
  {
   "cell_type": "code",
   "execution_count": 337,
   "id": "4e5a4c85",
   "metadata": {},
   "outputs": [
    {
     "data": {
      "text/html": [
       "<div>\n",
       "<style scoped>\n",
       "    .dataframe tbody tr th:only-of-type {\n",
       "        vertical-align: middle;\n",
       "    }\n",
       "\n",
       "    .dataframe tbody tr th {\n",
       "        vertical-align: top;\n",
       "    }\n",
       "\n",
       "    .dataframe thead th {\n",
       "        text-align: right;\n",
       "    }\n",
       "</style>\n",
       "<table border=\"1\" class=\"dataframe\">\n",
       "  <thead>\n",
       "    <tr style=\"text-align: right;\">\n",
       "      <th></th>\n",
       "      <th>text</th>\n",
       "      <th>airline_sentiment</th>\n",
       "    </tr>\n",
       "  </thead>\n",
       "  <tbody>\n",
       "    <tr>\n",
       "      <th>0</th>\n",
       "      <td>@VirginAmerica What @dhepburn said.</td>\n",
       "      <td>neutral</td>\n",
       "    </tr>\n",
       "    <tr>\n",
       "      <th>1</th>\n",
       "      <td>@VirginAmerica plus you've added commercials t...</td>\n",
       "      <td>positive</td>\n",
       "    </tr>\n",
       "    <tr>\n",
       "      <th>2</th>\n",
       "      <td>@VirginAmerica I didn't today... Must mean I n...</td>\n",
       "      <td>neutral</td>\n",
       "    </tr>\n",
       "    <tr>\n",
       "      <th>3</th>\n",
       "      <td>@VirginAmerica it's really aggressive to blast...</td>\n",
       "      <td>negative</td>\n",
       "    </tr>\n",
       "    <tr>\n",
       "      <th>4</th>\n",
       "      <td>@VirginAmerica and it's a really big bad thing...</td>\n",
       "      <td>negative</td>\n",
       "    </tr>\n",
       "    <tr>\n",
       "      <th>...</th>\n",
       "      <td>...</td>\n",
       "      <td>...</td>\n",
       "    </tr>\n",
       "    <tr>\n",
       "      <th>14635</th>\n",
       "      <td>@AmericanAir thank you we got on a different f...</td>\n",
       "      <td>positive</td>\n",
       "    </tr>\n",
       "    <tr>\n",
       "      <th>14636</th>\n",
       "      <td>@AmericanAir leaving over 20 minutes Late Flig...</td>\n",
       "      <td>negative</td>\n",
       "    </tr>\n",
       "    <tr>\n",
       "      <th>14637</th>\n",
       "      <td>@AmericanAir Please bring American Airlines to...</td>\n",
       "      <td>neutral</td>\n",
       "    </tr>\n",
       "    <tr>\n",
       "      <th>14638</th>\n",
       "      <td>@AmericanAir you have my money, you change my ...</td>\n",
       "      <td>negative</td>\n",
       "    </tr>\n",
       "    <tr>\n",
       "      <th>14639</th>\n",
       "      <td>@AmericanAir we have 8 ppl so we need 2 know h...</td>\n",
       "      <td>neutral</td>\n",
       "    </tr>\n",
       "  </tbody>\n",
       "</table>\n",
       "<p>14640 rows × 2 columns</p>\n",
       "</div>"
      ],
      "text/plain": [
       "                                                    text airline_sentiment\n",
       "0                    @VirginAmerica What @dhepburn said.           neutral\n",
       "1      @VirginAmerica plus you've added commercials t...          positive\n",
       "2      @VirginAmerica I didn't today... Must mean I n...           neutral\n",
       "3      @VirginAmerica it's really aggressive to blast...          negative\n",
       "4      @VirginAmerica and it's a really big bad thing...          negative\n",
       "...                                                  ...               ...\n",
       "14635  @AmericanAir thank you we got on a different f...          positive\n",
       "14636  @AmericanAir leaving over 20 minutes Late Flig...          negative\n",
       "14637  @AmericanAir Please bring American Airlines to...           neutral\n",
       "14638  @AmericanAir you have my money, you change my ...          negative\n",
       "14639  @AmericanAir we have 8 ppl so we need 2 know h...           neutral\n",
       "\n",
       "[14640 rows x 2 columns]"
      ]
     },
     "execution_count": 337,
     "metadata": {},
     "output_type": "execute_result"
    }
   ],
   "source": [
    "import numpy as np\n",
    "import pandas as pd\n",
    "\n",
    "data = pd.read_csv('Tweets.csv')\n",
    "data = data[['text', 'airline_sentiment']]\n",
    "data"
   ]
  },
  {
   "cell_type": "code",
   "execution_count": 338,
   "id": "6ae75da9",
   "metadata": {},
   "outputs": [
    {
     "name": "stdout",
     "output_type": "stream",
     "text": [
      "14640\n",
      "0                  @VirginAmerica What @dhepburn said.\n",
      "1    @VirginAmerica plus you've added commercials t...\n",
      "2    @VirginAmerica I didn't today... Must mean I n...\n",
      "3    @VirginAmerica it's really aggressive to blast...\n",
      "4    @VirginAmerica and it's a really big bad thing...\n",
      "Name: text, dtype: object\n"
     ]
    }
   ],
   "source": [
    "text = data['text']\n",
    "print(len(text))\n",
    "print(text[:5])"
   ]
  },
  {
   "cell_type": "markdown",
   "id": "02275ba5",
   "metadata": {},
   "source": [
    "### encoding the label"
   ]
  },
  {
   "cell_type": "code",
   "execution_count": 339,
   "id": "34eb03b1",
   "metadata": {},
   "outputs": [
    {
     "name": "stdout",
     "output_type": "stream",
     "text": [
      "0         neutral\n",
      "1        positive\n",
      "2         neutral\n",
      "3        negative\n",
      "4        negative\n",
      "           ...   \n",
      "14635    positive\n",
      "14636    negative\n",
      "14637     neutral\n",
      "14638    negative\n",
      "14639     neutral\n",
      "Name: airline_sentiment, Length: 14640, dtype: object\n",
      "[1 2 1 ... 1 0 1]\n",
      "(14640,)\n"
     ]
    }
   ],
   "source": [
    "from sklearn.preprocessing import LabelEncoder\n",
    "\n",
    "encoder = LabelEncoder()\n",
    "label = data['airline_sentiment']\n",
    "print(label)\n",
    "label = encoder.fit_transform(label)     #  0 : negative, 1 : neutral, 2 : positive\n",
    "label = np.array(label)\n",
    "print(label)\n",
    "print(label.shape)"
   ]
  },
  {
   "cell_type": "markdown",
   "id": "07b6cfd2",
   "metadata": {},
   "source": [
    "### preprocessing the text"
   ]
  },
  {
   "cell_type": "code",
   "execution_count": 340,
   "id": "c1b6fdc4",
   "metadata": {},
   "outputs": [
    {
     "name": "stdout",
     "output_type": "stream",
     "text": [
      "0                                               [said]\n",
      "1         [plus, added, commercial, experience, tacky]\n",
      "2       [today, must, mean, need, take, another, trip]\n",
      "3    [really, aggressive, blast, obnoxious, enterta...\n",
      "4                            [really, big, bad, thing]\n",
      "Name: text, dtype: object\n"
     ]
    }
   ],
   "source": [
    "import re\n",
    "import contractions\n",
    "import emoji\n",
    "import nltk\n",
    "from nltk.stem import WordNetLemmatizer\n",
    "from nltk.corpus import stopwords\n",
    "\n",
    "stop_words = set(stopwords.words('english'))\n",
    "lemmatizer = WordNetLemmatizer()\n",
    "\n",
    "def pre_processing(text) :\n",
    "    text = text.lower() \n",
    "    text = contractions.fix(text)   # expand the contractions\n",
    "    text = re.sub(r'https?:\\/\\/\\S+|www\\.\\S+', '', text)   # to remove urls \n",
    "    text = re.sub(r'@\\w+', '', text)   # to remove mentions\n",
    "    text = re.sub(r'#', '', text)   # to remove hashtags keep the word\n",
    "    text = emoji.demojize(text)  # Convert emojis to text\n",
    "    text = re.sub(r'\\s+', ' ', text)   # to remove extra spaces\n",
    "    text = re.sub(r'[^\\w\\s]', '', text)   # to remove special characters and punctuation\n",
    "\n",
    "    text = text.split()\n",
    "    text = [lemmatizer.lemmatize(word) for word in text if word not in stop_words]  # lemmatize and remove stop words\n",
    "\n",
    "    return text\n",
    "\n",
    "text_final = text.apply(lambda x : pre_processing(x))\n",
    "print(text_final[:5])"
   ]
  },
  {
   "cell_type": "markdown",
   "id": "79fee5b7",
   "metadata": {},
   "source": [
    "### loading the model"
   ]
  },
  {
   "cell_type": "code",
   "execution_count": null,
   "id": "8dbbca54",
   "metadata": {},
   "outputs": [],
   "source": [
    "import gensim.downloader as api\n",
    "wv = api.load('word2vec-google-news-300')"
   ]
  },
  {
   "cell_type": "code",
   "execution_count": 303,
   "id": "07d1ba1f",
   "metadata": {},
   "outputs": [
    {
     "name": "stdout",
     "output_type": "stream",
     "text": [
      "[==================================================] 100.0% 387.1/387.1MB downloaded\n"
     ]
    }
   ],
   "source": [
    "glove_model = api.load('glove-twitter-100')"
   ]
  },
  {
   "cell_type": "markdown",
   "id": "574acfdf",
   "metadata": {},
   "source": [
    "### sentence embeddings"
   ]
  },
  {
   "cell_type": "code",
   "execution_count": 342,
   "id": "955a75fb",
   "metadata": {},
   "outputs": [
    {
     "name": "stdout",
     "output_type": "stream",
     "text": [
      "(14640, 300)\n",
      "(14640, 100)\n"
     ]
    }
   ],
   "source": [
    "def sentence_embeddings(text_tokens, wv) :\n",
    "    word_vectors = [wv[token] for token in text_tokens if token in wv]\n",
    "    return np.mean(word_vectors, axis= 0 ) if word_vectors else np.zeros(wv.vector_size)\n",
    "\n",
    "sentence_vectors_word2vec = np.array([sentence_embeddings(text_tokens, wv) for text_tokens in text_final])\n",
    "print(sentence_vectors_word2vec.shape)\n",
    "\n",
    "sentence_vectors_glove = np.array([sentence_embeddings(text_tokens, glove_model) for text_tokens in text_final])\n",
    "print(sentence_vectors_glove.shape)"
   ]
  },
  {
   "cell_type": "markdown",
   "id": "691ee969",
   "metadata": {},
   "source": [
    "### logistic regression"
   ]
  },
  {
   "cell_type": "markdown",
   "id": "93275adc",
   "metadata": {},
   "source": [
    "#### using google news word2vec model"
   ]
  },
  {
   "cell_type": "code",
   "execution_count": 343,
   "id": "ae67e739",
   "metadata": {},
   "outputs": [
    {
     "name": "stdout",
     "output_type": "stream",
     "text": [
      "Accuracy with word2vec: 0.7650273224043715\n"
     ]
    }
   ],
   "source": [
    "from sklearn.model_selection import train_test_split\n",
    "from sklearn.linear_model import LogisticRegression\n",
    "from sklearn.metrics import accuracy_score\n",
    "x_train_1, x_test_1, y_train, y_test = train_test_split(sentence_vectors_word2vec, label, test_size=0.2)\n",
    "classifier1 = LogisticRegression()\n",
    "classifier1.fit(x_train_1, y_train)\n",
    "y_pred_1 = classifier1.predict(x_test_1)\n",
    "\n",
    "accuracy1 = accuracy_score(y_pred_1, y_test)\n",
    "print('Accuracy with word2vec:', accuracy1)"
   ]
  },
  {
   "cell_type": "markdown",
   "id": "b4ba9966",
   "metadata": {},
   "source": [
    "#### using glove twitter model"
   ]
  },
  {
   "cell_type": "code",
   "execution_count": 344,
   "id": "9a97fa26",
   "metadata": {},
   "outputs": [
    {
     "name": "stdout",
     "output_type": "stream",
     "text": [
      "Accuracy with glove : 0.7595628415300546\n"
     ]
    }
   ],
   "source": [
    "x_train_2, x_test_2, y_train, y_test = train_test_split(sentence_vectors_glove, label, test_size=0.2)\n",
    "classifier2 = LogisticRegression()\n",
    "classifier2.fit(x_train_2, y_train)\n",
    "y_pred_2 = classifier2.predict(x_test_2)\n",
    "\n",
    "accuracy2 = accuracy_score(y_pred_2, y_test)\n",
    "print('Accuracy with glove :', accuracy2)"
   ]
  },
  {
   "cell_type": "markdown",
   "id": "d413a5ad",
   "metadata": {},
   "source": [
    "### function definition"
   ]
  },
  {
   "cell_type": "code",
   "execution_count": 357,
   "id": "d59a6b64",
   "metadata": {},
   "outputs": [
    {
     "name": "stdout",
     "output_type": "stream",
     "text": [
      "tweet : @VirginAmerica seriously would pay $30 a flight for seats that didn't have this playing.\n",
      "it's really the only bad thing about flying VA\n",
      "actual label : negative\n",
      "predicted label using word2vec: negative\n",
      "predicted label using glove : negative\n"
     ]
    }
   ],
   "source": [
    "dict2 = {0 : 'negative', 1 : 'neutral', 2 : 'positive'}\n",
    "\n",
    "def predict_tweet_sentiment(model, glove_model, tweet) :\n",
    "    tweet_process = pre_processing(tweet)\n",
    "    sentence_vector = sentence_embeddings(tweet_process, glove_model)\n",
    "    val =  model.predict(sentence_vector.reshape(1,-1))\n",
    "    return dict2[val[0]]\n",
    "\n",
    "\n",
    "text = data['text'][5]\n",
    "print(\"tweet :\", text)\n",
    "print(\"actual label :\" , data['airline_sentiment'][5])\n",
    "print(\"predicted label using word2vec:\", predict_tweet_sentiment(classifier1, wv, text))\n",
    "print(\"predicted label using glove :\", predict_tweet_sentiment(classifier2, glove_model, text))\n"
   ]
  },
  {
   "cell_type": "code",
   "execution_count": null,
   "id": "b327f72c",
   "metadata": {},
   "outputs": [],
   "source": []
  }
 ],
 "metadata": {
  "kernelspec": {
   "display_name": "soc",
   "language": "python",
   "name": "python3"
  },
  "language_info": {
   "codemirror_mode": {
    "name": "ipython",
    "version": 3
   },
   "file_extension": ".py",
   "mimetype": "text/x-python",
   "name": "python",
   "nbconvert_exporter": "python",
   "pygments_lexer": "ipython3",
   "version": "3.11.11"
  }
 },
 "nbformat": 4,
 "nbformat_minor": 5
}
